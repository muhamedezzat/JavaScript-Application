{
  "nbformat": 4,
  "nbformat_minor": 0,
  "metadata": {
    "kernelspec": {
      "display_name": "Python 3",
      "language": "python",
      "name": "python3"
    },
    "language_info": {
      "codemirror_mode": {
        "name": "ipython",
        "version": 3
      },
      "file_extension": ".py",
      "mimetype": "text/x-python",
      "name": "python",
      "nbconvert_exporter": "python",
      "pygments_lexer": "ipython3",
      "version": "3.7.7"
    },
    "colab": {
      "name": "Dataset-Creation.ipynb",
      "provenance": [],
      "include_colab_link": true
    }
  },
  "cells": [
    {
      "cell_type": "markdown",
      "metadata": {
        "id": "view-in-github",
        "colab_type": "text"
      },
      "source": [
        "<a href=\"https://colab.research.google.com/github/muhamedezzat/JavaScript-Application/blob/master/Dataset_Creation.ipynb\" target=\"_parent\"><img src=\"https://colab.research.google.com/assets/colab-badge.svg\" alt=\"Open In Colab\"/></a>"
      ]
    },
    {
      "cell_type": "markdown",
      "metadata": {
        "id": "RT7-GBjSDimT"
      },
      "source": [
        "### Disney Dataset Creation (w/ Python BeautifulSoup)\n",
        "Scrape & clean a list of disney wikipedia pages to create a dataset to further analyze"
      ]
    },
    {
      "cell_type": "markdown",
      "metadata": {
        "id": "EcMu02bLDimX"
      },
      "source": [
        "### Task #1: Get Info Box (store in Python dictionary)"
      ]
    },
    {
      "cell_type": "markdown",
      "metadata": {
        "id": "Q9YdDcieDimZ"
      },
      "source": [
        "#### Import Necessary Libraries\n",
        "\n",
        "\n"
      ]
    },
    {
      "cell_type": "code",
      "metadata": {
        "id": "afTP3Pz-Dimb"
      },
      "source": [
        "from bs4 import BeautifulSoup as bs\n",
        "import requests"
      ],
      "execution_count": null,
      "outputs": []
    },
    {
      "cell_type": "markdown",
      "metadata": {
        "id": "LfvU1efADimk"
      },
      "source": [
        "#### Load the webpage"
      ]
    },
    {
      "cell_type": "code",
      "metadata": {
        "id": "7UDjZMT4Diml"
      },
      "source": [
        "r = requests.get(\"https://en.wikipedia.org/wiki/Toy_Story_3\")\n",
        "\n",
        "# Convert to a beautiful soup object\n",
        "soup = bs(r.content)\n",
        "\n",
        "# Print out the HTML\n",
        "contents = soup.prettify()\n",
        "print(contents)"
      ],
      "execution_count": null,
      "outputs": []
    },
    {
      "cell_type": "code",
      "metadata": {
        "scrolled": true,
        "id": "WULTcuA7Dimy"
      },
      "source": [
        "info_box = soup.find(class_=\"infobox vevent\")\n",
        "info_rows = info_box.find_all(\"tr\")\n",
        "for row in info_rows:\n",
        "    print(row.prettify())"
      ],
      "execution_count": null,
      "outputs": []
    },
    {
      "cell_type": "code",
      "metadata": {
        "id": "ye46fRUoDim5"
      },
      "source": [
        "def get_content_value(row_data):\n",
        "    if row_data.find(\"li\"):\n",
        "        return [li.get_text(\" \", strip=True).replace(\"\\xa0\", \" \") for li in row_data.find_all(\"li\")]\n",
        "    else:\n",
        "        return row_data.get_text(\" \", strip=True).replace(\"\\xa0\", \" \")\n",
        "\n",
        "movie_info = {}\n",
        "for index, row in enumerate(info_rows):\n",
        "    if index == 0:\n",
        "        movie_info['title'] = row.find(\"th\").get_text(\" \", strip=True)\n",
        "    elif index == 1:\n",
        "        continue\n",
        "    else:\n",
        "        content_key = row.find(\"th\").get_text(\" \", strip=True)\n",
        "        content_value = get_content_value(row.find(\"td\"))\n",
        "        movie_info[content_key] = content_value\n",
        "    \n",
        "movie_info"
      ],
      "execution_count": null,
      "outputs": []
    },
    {
      "cell_type": "markdown",
      "metadata": {
        "id": "9VvkFWWPDinB"
      },
      "source": [
        "### Task #2: Get info box for all movies"
      ]
    },
    {
      "cell_type": "code",
      "metadata": {
        "id": "5KsHp38CDinC"
      },
      "source": [
        "r = requests.get(\"https://en.wikipedia.org/wiki/List_of_Walt_Disney_Pictures_films\")\n",
        "\n",
        "# Convert to a beautiful soup object\n",
        "soup = bs(r.content)\n",
        "\n",
        "# Print out the HTML\n",
        "contents = soup.prettify()\n",
        "print(contents)"
      ],
      "execution_count": null,
      "outputs": []
    },
    {
      "cell_type": "code",
      "metadata": {
        "id": "LTFlJvlnDinQ"
      },
      "source": [
        "movies = soup.select(\".wikitable.sortable i\")\n",
        "movies[0:10]"
      ],
      "execution_count": null,
      "outputs": []
    },
    {
      "cell_type": "code",
      "metadata": {
        "id": "tL8ZYKrgDinY"
      },
      "source": [
        "def get_content_value(row_data):\n",
        "    if row_data.find(\"li\"):\n",
        "        return [li.get_text(\" \", strip=True).replace(\"\\xa0\", \" \") for li in row_data.find_all(\"li\")]\n",
        "    elif row_data.find(\"br\"):\n",
        "        return [text for text in row_data.stripped_strings]\n",
        "    else:\n",
        "        return row_data.get_text(\" \", strip=True).replace(\"\\xa0\", \" \")\n",
        "\n",
        "def clean_tags(soup):\n",
        "    for tag in soup.find_all([\"sup\", \"span\"]):\n",
        "        tag.decompose()\n",
        "        \n",
        "def get_info_box(url):\n",
        "\n",
        "    r = requests.get(url)\n",
        "    soup = bs(r.content)\n",
        "    info_box = soup.find(class_=\"infobox vevent\")\n",
        "    info_rows = info_box.find_all(\"tr\")\n",
        "    \n",
        "    clean_tags(soup)\n",
        "\n",
        "    movie_info = {}\n",
        "    for index, row in enumerate(info_rows):\n",
        "        if index == 0:\n",
        "            movie_info['title'] = row.find(\"th\").get_text(\" \", strip=True)\n",
        "        else:\n",
        "            header = row.find('th')\n",
        "            if header:\n",
        "                content_key = row.find(\"th\").get_text(\" \", strip=True)\n",
        "                content_value = get_content_value(row.find(\"td\"))\n",
        "                movie_info[content_key] = content_value\n",
        "            \n",
        "    return movie_info    "
      ],
      "execution_count": null,
      "outputs": []
    },
    {
      "cell_type": "code",
      "metadata": {
        "id": "j5b1SXaTDine"
      },
      "source": [
        "get_info_box(\"https://en.wikipedia.org/wiki/One_Little_Indian_(film)\")"
      ],
      "execution_count": null,
      "outputs": []
    },
    {
      "cell_type": "code",
      "metadata": {
        "scrolled": false,
        "id": "Yk6oSTTkDinl",
        "outputId": "a5073ae8-4886-44d3-c16b-155a9352b8cd",
        "colab": {
          "base_uri": "https://localhost:8080/",
          "height": 867
        }
      },
      "source": [
        "r = requests.get(\"https://en.wikipedia.org/wiki/List_of_Walt_Disney_Pictures_films\")\n",
        "soup = bs(r.content)\n",
        "movies = soup.select(\".wikitable.sortable i a\")\n",
        "\n",
        "base_path = \"https://en.wikipedia.org/\"\n",
        "\n",
        "movie_info_list = []\n",
        "for index, movie in enumerate(movies):\n",
        "    if index % 10 == 0:\n",
        "        print(index)\n",
        "    try:\n",
        "        relative_path = movie['href']\n",
        "        full_path = base_path + relative_path\n",
        "        title = movie['title']\n",
        "        \n",
        "        movie_info_list.append(get_info_box(full_path))\n",
        "        \n",
        "    except Exception as e:\n",
        "        print(movie.get_text())\n",
        "        print(e)\n",
        "    "
      ],
      "execution_count": null,
      "outputs": [
        {
          "output_type": "stream",
          "text": [
            "0\n",
            "10\n",
            "20\n",
            "30\n",
            "40\n",
            "Zorro the Avenger\n",
            "'NoneType' object has no attribute 'find'\n",
            "The Sign of Zorro\n",
            "'NoneType' object has no attribute 'find'\n",
            "50\n",
            "60\n",
            "70\n",
            "80\n",
            "90\n",
            "100\n",
            "110\n",
            "120\n",
            "True-Life Adventures\n",
            "'NoneType' object has no attribute 'find_all'\n",
            "130\n",
            "140\n",
            "150\n",
            "160\n",
            "170\n",
            "180\n",
            "190\n",
            "200\n",
            "210\n",
            "220\n",
            "230\n",
            "240\n",
            "250\n",
            "260\n",
            "270\n",
            "280\n",
            "290\n",
            "300\n",
            "310\n",
            "320\n",
            "330\n",
            "340\n",
            "350\n",
            "360\n",
            "370\n",
            "380\n",
            "390\n",
            "400\n",
            "410\n",
            "420\n",
            "430\n"
          ],
          "name": "stdout"
        }
      ]
    },
    {
      "cell_type": "code",
      "metadata": {
        "id": "eW_FH1VsDinr",
        "outputId": "aa75ad3d-fb7b-4bba-b024-ab1958eddd8f",
        "colab": {
          "base_uri": "https://localhost:8080/",
          "height": 34
        }
      },
      "source": [
        "len(movie_info_list)"
      ],
      "execution_count": null,
      "outputs": [
        {
          "output_type": "execute_result",
          "data": {
            "text/plain": [
              "437"
            ]
          },
          "metadata": {
            "tags": []
          },
          "execution_count": 13
        }
      ]
    },
    {
      "cell_type": "markdown",
      "metadata": {
        "id": "gmszF_26Dinx"
      },
      "source": [
        "#### Save/Reload Movie Data"
      ]
    },
    {
      "cell_type": "code",
      "metadata": {
        "id": "x4inIIlIDiny"
      },
      "source": [
        "import json\n",
        "\n",
        "def save_data(title, data):\n",
        "    with open(title, 'w', encoding='utf-8') as f:\n",
        "        json.dump(data, f, ensure_ascii=False, indent=2)"
      ],
      "execution_count": null,
      "outputs": []
    },
    {
      "cell_type": "code",
      "metadata": {
        "id": "i0KEaFxSDin4"
      },
      "source": [
        "import json\n",
        "\n",
        "def load_data(title):\n",
        "    with open(title, encoding=\"utf-8\") as f:\n",
        "        return json.load(f)"
      ],
      "execution_count": null,
      "outputs": []
    },
    {
      "cell_type": "code",
      "metadata": {
        "id": "Oqizq3O0Din-"
      },
      "source": [
        "save_data(\"disney_data_cleaned.json\", movie_info_list) "
      ],
      "execution_count": null,
      "outputs": []
    },
    {
      "cell_type": "code",
      "metadata": {
        "id": "wvX8ZBSjJjhQ",
        "outputId": "c2536127-13c4-4517-f534-44114ef94a94",
        "colab": {
          "base_uri": "https://localhost:8080/",
          "height": 459
        }
      },
      "source": [
        "import requests \n",
        "from bs4 import BeautifulSoup as bs\n",
        "\n",
        "def get_Content_Value(rowData):\n",
        "    if rowData.find(\"li\"):\n",
        "      return [li.get_text(\" \",strip=True).replace(\"\\xa0\",\" \")  for li in rowData.find_all(\"li\")] \n",
        "    else:\n",
        "      return rowData.get_text(\" \",strip=True).replace(\"\\xa0\",\" \")\n",
        "\n",
        "\n",
        "def get_All_Films(fullPath):\n",
        "  r = requests.get(fullPath)\n",
        "  soup = bs(r.content)\n",
        "\n",
        "  infoBox = soup.find(class_=\"infobox vevent\")\n",
        "  infoRows = infoBox.find_all(\"tr\")\n",
        "  \n",
        "  movieInfo = {}\n",
        "\n",
        "  for index , row in enumerate(infoRows):\n",
        "    if index == 0 :\n",
        "      movieInfo[\"title\"] = row.find(\"th\").get_text(\" \",strip=True)\n",
        "    elif index == 1:\n",
        "     continue\n",
        "    else:\n",
        "      contentKey= row.find(\"th\").get_text(\" \",strip=True)\n",
        "      contentValue= get_Content_Value(row.find(\"td\"))\n",
        "      movieInfo[contentKey] = contentValue\n",
        "  \n",
        "  return movieInfo\n",
        "\n",
        "allreq = requests.get(\"https://en.wikipedia.org/wiki/List_of_Walt_Disney_Pictures_films\")\n",
        "soup2 = bs(allreq.content)\n",
        "filmTables = soup2.select(\".wikitable.sortable i a\")\n",
        "\n",
        "basePath = \"https://en.wikipedia.org/\"\n",
        "\n",
        "movieList = [ ]\n",
        "for index , movie in enumerate(filmTables):\n",
        "  # if index == 10:\n",
        "  #   break\n",
        "\n",
        "  try:\n",
        "    relativePath = movie[\"href\"]\n",
        "    fullPath = basePath + relativePath\n",
        "    title = movie[\"title\"]\n",
        "    movieList.append(get_All_Films(fullPath))\n",
        "  \n",
        "  except Exception as e:\n",
        "      print(movie.get_text())\n",
        "      print(e)\n",
        "\n",
        "# print(movieList)\n",
        "\n",
        "import json\n",
        "def save(title,data):\n",
        "  with open(title,\"w\",encoding=\"utf-8\") as f:\n",
        "    json.dump(data,f,ensure_ascii=False,indent=3)\n",
        "\n",
        "def load(title):\n",
        "  with open(title,encoding=\"utf-8\") as f:\n",
        "    return json.load(f)\n",
        "\n",
        "save(\"Disney Data.json\",movieList)"
      ],
      "execution_count": null,
      "outputs": [
        {
          "output_type": "stream",
          "text": [
            "Zorro the Avenger\n",
            "'NoneType' object has no attribute 'find'\n",
            "The Sign of Zorro\n",
            "'NoneType' object has no attribute 'find'\n",
            "One Little Indian\n",
            "'NoneType' object has no attribute 'get_text'\n",
            "True-Life Adventures\n",
            "'NoneType' object has no attribute 'find_all'\n",
            "Spirited Away\n",
            "'NoneType' object has no attribute 'get_text'\n",
            "Howl's Moving Castle\n",
            "'NoneType' object has no attribute 'get_text'\n",
            "The Nightmare Before Christmas 3D\n",
            "'NoneType' object has no attribute 'get_text'\n",
            "Ponyo\n",
            "'NoneType' object has no attribute 'get_text'\n",
            "Tales from Earthsea\n",
            "'NoneType' object has no attribute 'get_text'\n",
            "The Secret World of Arrietty\n",
            "'NoneType' object has no attribute 'get_text'\n",
            "Khoobsurat\n",
            "'NoneType' object has no attribute 'get_text'\n",
            "Tini: The Movie\n",
            "'NoneType' object has no attribute 'get_text'\n",
            "Born in China\n",
            "'NoneType' object has no attribute 'get_text'\n"
          ],
          "name": "stdout"
        }
      ]
    },
    {
      "cell_type": "markdown",
      "metadata": {
        "id": "pPtNnzg6DioE"
      },
      "source": [
        "### Task #3: Clean our data!"
      ]
    },
    {
      "cell_type": "code",
      "metadata": {
        "id": "A7QsPcouDioG"
      },
      "source": [
        "movie_info_list = load_data(\"disney_data_cleaned.json\")"
      ],
      "execution_count": null,
      "outputs": []
    },
    {
      "cell_type": "markdown",
      "metadata": {
        "id": "RzHYWVDRDioM"
      },
      "source": [
        "#### Subtasks\n",
        "- ~~Clean up references [1]~~\n",
        "- ~~Convert running time into an integer~~\n",
        "- Convert dates into datetime object\n",
        "- ~~Split up the long strings~~\n",
        "- ~~Convert Budget & Box office to numbers~~"
      ]
    },
    {
      "cell_type": "code",
      "metadata": {
        "id": "_ERE8_aLDioN"
      },
      "source": [
        "movie_info_list[-40]"
      ],
      "execution_count": null,
      "outputs": []
    },
    {
      "cell_type": "code",
      "metadata": {
        "id": "muEsd6EWDiob"
      },
      "source": [
        "print([movie.get('Running time', 'N/A') for movie in movie_info_list])\n"
      ],
      "execution_count": null,
      "outputs": []
    },
    {
      "cell_type": "code",
      "metadata": {
        "id": "FYxZKHkZDioi"
      },
      "source": [
        "# \"85 minutes\"\n",
        "def minutes_to_integer(running_time):\n",
        "    if running_time == \"N/A\":\n",
        "        return None\n",
        "    \n",
        "    if isinstance(running_time, list):\n",
        "        return int(running_time[0].split(\" \")[0])\n",
        "    else: # is a string\n",
        "        return int(running_time.split(\" \")[0])\n",
        "\n",
        "for movie in movie_info_list:\n",
        "    movie['Running time (int)'] = minutes_to_integer(movie.get('Running time', \"N/A\"))\n",
        "\n"
      ],
      "execution_count": null,
      "outputs": []
    },
    {
      "cell_type": "code",
      "metadata": {
        "id": "4z2o-rX3Dioo",
        "outputId": "d6d7c8a6-4b29-46b4-f79a-896246599055"
      },
      "source": [
        "print([movie.get('Running time (int)', 'N/A') for movie in movie_info_list])\n"
      ],
      "execution_count": null,
      "outputs": [
        {
          "output_type": "stream",
          "text": [
            "[41, 83, 88, 126, 74, 64, 70, 42, 65, 71, 75, 94, 73, 75, 82, 68, 74, 96, 75, 84, 77, 92, 69, 81, 60, 127, 92, 76, 75, 73, 85, 81, 70, 90, 80, 75, 83, 83, 72, 97, 75, 104, 93, 105, 95, 97, 134, 69, 92, 126, 79, 97, 128, 74, 91, 105, 98, 130, 89, 93, 67, 98, 100, 118, 103, 110, 80, 79, 91, 91, 97, 118, 139, 92, 131, 87, 116, 93, 110, 110, 131, 101, 108, 84, 78, 75, 164, 106, 110, 99, 113, 108, 112, 93, 91, 93, 100, 100, 79, 96, 113, 89, 118, 92, 88, 92, 87, 93, 93, 93, 90, 83, 96, 88, 89, 91, 93, 92, 97, 100, 100, 89, 91, 112, 115, 95, 91, 95, 104, 74, 48, 77, 104, 128, 101, 94, 104, 90, 100, 88, 93, 98, 100, 112, 84, 98, 97, 114, 96, 100, 109, 83, 90, 107, 96, 103, 91, 95, 105, 113, 80, 101, 89, 74, 90, 89, 110, 74, 93, 84, 83, 69, 77, 107, 93, 88, 108, 84, 121, 89, 104, 90, 86, 84, 108, 107, 96, 98, 105, 108, 94, 106, 102, 88, 102, 102, 97, 111, 100, 96, 98, 78, 81, 108, 89, 99, 89, 81, 92, 100, 89, 79, 91, 101, 104, 103, 86, 105, 93, 92, 98, 95, 93, 87, 93, 87, 128, 86, 95, 114, 93, 83, 83, 88, 78, 112, 92, 74, 77, 82, 104, 113, 100, 78, 83, 96, 115, 86, 92, 99, 73, 128, 85, 88, 96, 104, 95, 72, 75, 61, 117, 94, 100, 143, 97, 85, 86, 50, 74, 136, 89, 76, 40, 120, 84, 113, 115, 131, 100, 68, 95, 97, 101, 100, 76, 120, 81, 143, 106, 40, 120, 99, 82, 117, 151, 104, 76, 92, 95, 94, 168, 111, 82, 87, 110, 107, 124, 74, 83, 150, 97, 91, 100, 111, 96, 99, 76, 98, 97, 99, 96, None, 90, None, 101, 96, 88, 97, 108, 85, 104, 116, 103, 109, 74, 123, 108, 100, 101, 125, None, 90, 88, 109, 89, 104, 137, 106, 69, 103, 132, 77, 96, 93, 104, 87, 101, 130, 77, 104, 149, 92, 102, 125, 107, 77, 124, 97, 84, 127, 81, 102, 124, 129, 106, 82, 130, 94, 154, 94, 117, 108, 106, 98, 113, 97, 117, 103, 124, 107, 161, 80, 129, 76, 129, 102, None, 162, 105, 109, 118, 104, 99, 112, 131, 112, 76, 128, 100, 118, 119, 104, 100, 103, 114, 99, 102, 107, 78, 89, 95, 160, 85, 100, 95, 115, None, None, None, None, None, None]\n"
          ],
          "name": "stdout"
        }
      ]
    },
    {
      "cell_type": "code",
      "metadata": {
        "id": "C1NO995jDiot",
        "outputId": "44b5f1d2-753b-4c3f-ace9-e80ae5f311f6"
      },
      "source": [
        "print([movie.get('Budget', 'N/A') for movie in movie_info_list])"
      ],
      "execution_count": null,
      "outputs": [
        {
          "output_type": "stream",
          "text": [
            "['N/A', '$1.49 million', '$2.6 million', '$2.28 million', '$600,000', '$950,000', '$858,000', 'N/A', '$788,000', 'N/A', '$1.35 million', '$2.125 million', 'N/A', '$1.5 million', '$1.5 million', 'N/A', '$2.9 million', '$1,800,000', '$3 million', 'N/A', '$4 million', '$2 million', '$300,000', '$1.8 million', 'N/A', '$5 million', 'N/A', '$4 million', 'N/A', 'N/A', 'N/A', 'N/A', 'N/A', 'N/A', '$700,000', 'N/A', 'N/A', 'N/A', 'N/A', 'N/A', '$6 million', 'under $1 million or $1,250,000', 'N/A', '$2 million', 'N/A', 'N/A', '$2.5 million', 'N/A', 'N/A', '$4 million', '$3.6 million', 'N/A', 'N/A', 'N/A', 'N/A', '$3 million', 'N/A', '$3 million', 'N/A', 'N/A', 'N/A', 'N/A', 'N/A', 'N/A', 'N/A', 'N/A', 'N/A', '$3 million', 'N/A', 'N/A', 'N/A', 'N/A', '$4.4–6 million', 'N/A', 'N/A', 'N/A', 'N/A', 'N/A', 'N/A', 'N/A', 'N/A', 'N/A', 'N/A', 'N/A', '$4 million', 'N/A', '$5 million', 'N/A', 'N/A', 'N/A', 'N/A', '$5 million', 'N/A', 'N/A', 'N/A', 'N/A', 'N/A', 'N/A', '$4 million', 'N/A', 'N/A', 'N/A', '$6.3 million', 'N/A', 'N/A', 'N/A', 'N/A', 'N/A', 'N/A', 'N/A', 'N/A', '$5 million', 'N/A', 'N/A', 'N/A', 'N/A', '$8 million', 'N/A', 'N/A', 'N/A', 'N/A', 'N/A', 'AU$1 million', 'N/A', 'N/A', 'N/A', 'N/A', '$5 million', 'N/A', 'N/A', 'N/A', '$7.5 million', 'N/A', '$10 million', 'N/A', 'N/A', '$3.5 to 4 million', 'N/A', 'N/A', 'N/A', '$5.25 million', '$20 million', 'N/A', 'N/A', '$9 million', 'N/A', '$6-8 million', '$20 million', 'N/A', 'N/A', '$18 million', '$12 million', '$14 million', 'N/A', '', '$5 million', 'unknown', '$19 million (estimated)', '$11 million', '$28 million', '$25–44 million', 'N/A', 'N/A', '$14 million', '$9 million', 'N/A', 'A$8.7 million', '$31 million', '$18 million', '$5 million', '$40 million', '$20 million', 'N/A', '$14 million', '60 million Norwegian Kroner (around $8.7 million in 1989)', 'N/A', '$35-40 million', '$25 million', '$15 million', '$40 million', '$14 million', '$28 million', '$12 million', 'N/A', 'N/A', '$6.5 million', '$28 million', '$17 million', '$30 million', 'N/A', '$13 million', 'N/A', 'N/A', '$45 million', '$31 million', 'N/A', '$22 million', '$30 million', 'N/A', '$22 million', ['$32 million', '(estimated)'], 'N/A', '$55 million', '$24 million', '$15 million', '$12 million', 'N/A', '$30 million', 'N/A', '$31 million', 'N/A', '$38 million', '$100 million', '$15 million', 'N/A', '$75 million', 'N/A', '$32 million', '$85 million', '$55 million', '$3 million', '$16 million', '$80 million', '$30 million', '$24 million', '$90 million', '$15 million', '$30 million', '$120 million', '$90 million', '$65 million', '$5 million', 'N/A', '$130 million', '$90 million', '$10 million', '$90 million', '$80–$85 million', '$15 million –$30 million', '$127.5 million', '$65 million', '$30 million', '$85 million', '$100 million', '$23 million', '$90–120 million', '$26 million', '$25 million', '$115 million', '$33 million', '$20 million', '$22 million', '$80 million', '$35 million', '$15 million', '$65 million', '$140 million', '$20 million', '$46 million', '$13 million', '$20 million', '$17 million', '$94 million', '$140 million', '$26 million', '$46 million', '$90 million', 'N/A', '$10 million', '$28 million', '$15 million', '$110 million', 'N/A', '$110 million', 'N/A', '$45 million', '$92 million', '$100 million', 'N/A', '$20 million', '$56 million', '$25 million', '$50 million', '$35 million', '$35 million', '$25 million', '$150 million', '$180 million', '$30 million', '$1 million', '$40 million', '$50 million', '$80 million', '$120 million', '$225 million', '$30 million', '$18 million', '$12 million', '$20–25 million', 'N/A', '$300 million', '$150 million', '$25 million', 'N/A', '$22 million', '$85 million', '$130 million', '$7 million', '$25 million', '$225 million', '$180 million', '$20 million', 'N/A', '$11 million', '$150 million', '$80 million', 'N/A', '$50 million', '$30 million', '$47 million', '$175 million', 'N/A', '$150 million', 'N/A', '$8 million ( ₽ 350 million)', '$175-200 million', '$35 million', '$105 million', '$150 –$200 million', 'N/A', '$80 million', '$150  million', '$200 million', '$150 million', 'N/A', '$35 million', 'N/A', '$260 million', 'N/A', '$150 million', '(US$3.8 million)', 'N/A', '$150 million', 'N/A', '$5 million', '$8 million', ['$410.6 million (gross)', '$378.5 million (net)'], '$200 million', '$30 million', '$45 million', ['$306.6 million (gross)', '$263.7 million (net)'], '$5 million', 'N/A', '$185 million', '$25 million', '$39 million', '$165 million', '$200–215 million', 'N/A', '$200 million', '$225–250 million', '$50 million', '$150 million', '$35 million', '$51 million', '$5 million', '$25 million', '$180–263 million', '$50 million', '(US$3.2 million)', '$28 million', '$165 million', '$50 million', '$25 million', '$95–100 million', '$5–10 million', '$180–190 million', '$175 million', '', '$175 million', '$70–80 million', '$150 million', '$175–177 million', 'N/A', '$170 million', '$175–200 million', '$140 million', '$65 million', '$15 million', '$150–175 million', '70 crore', '$8 million', '$160–255 million', '$5–10 million', '$230–320 million', '$175 million', 'N/A', ['1.31\\xa0billion'], '$175 million', '$100–130 million', '$200 million', '$75 million', '$120–133 million', '$175 million', '$130 million', '$170 million', 'N/A', '$183 million', '$200 million', '$250–260 million', '$185 million', '$60 million', 'N/A', '$150 million', '$40 million', '$42 million', '$175–200 million', 'N/A', 'N/A', 'N/A', '$125 million', '$12.5 million (stage production)', 'N/A', '$24 million', 'N/A', '$200 million', 'N/A', '$150 million+', 'N/A', 'N/A', 'N/A', 'N/A']\n"
          ],
          "name": "stdout"
        }
      ]
    },
    {
      "cell_type": "code",
      "metadata": {
        "id": "kslDxZ9yDioz"
      },
      "source": [
        "import re\n",
        "\n",
        "amounts = r\"thousand|million|billion\"\n",
        "number = r\"\\d+(,\\d{3})*\\.*\\d*\"\n",
        "\n",
        "word_re = rf\"\\${number}(-|\\sto\\s|–)?({number})?\\s({amounts})\"\n",
        "value_re = rf\"\\${number}\"\n",
        "\n",
        "def word_to_value(word):\n",
        "    value_dict = {\"thousand\": 1000, \"million\": 1000000, \"billion\": 1000000000}\n",
        "    return value_dict[word]\n",
        "\n",
        "def parse_word_syntax(string):\n",
        "    value_string = re.search(number, string).group()\n",
        "    value = float(value_string.replace(\",\", \"\"))\n",
        "    word = re.search(amounts, string, flags=re.I).group().lower()\n",
        "    word_value = word_to_value(word)\n",
        "    return value*word_value\n",
        "\n",
        "def parse_value_syntax(string):\n",
        "    value_string = re.search(number, string).group()\n",
        "    value = float(value_string.replace(\",\", \"\"))\n",
        "    return value\n",
        "\n",
        "'''\n",
        "money_conversion(\"$12.2 million\") --> 12200000 ## Word syntax\n",
        "money_conversion(\"$790,000\") --> 790000        ## Value syntax\n",
        "'''\n",
        "def money_conversion(money):\n",
        "    if money == \"N/A\":\n",
        "        return None\n",
        "\n",
        "    if isinstance(money, list):\n",
        "        money = money[0]\n",
        "        \n",
        "    word_syntax = re.search(word_re, money, flags=re.I)\n",
        "    value_syntax = re.search(value_re, money)\n",
        "\n",
        "    if word_syntax:\n",
        "        return parse_word_syntax(word_syntax.group())\n",
        "\n",
        "    elif value_syntax:\n",
        "        return parse_value_syntax(value_syntax.group())\n",
        "\n",
        "    else:\n",
        "        return None"
      ],
      "execution_count": null,
      "outputs": []
    },
    {
      "cell_type": "code",
      "metadata": {
        "id": "NGexnLioDio4",
        "outputId": "7861f5f3-31ae-456c-e60a-cf3ec1f89069"
      },
      "source": [
        "for movie in movie_info_list:\n",
        "    movie['Budget (float)'] = money_conversion(movie.get('Budget', \"N/A\"))\n",
        "    movie['Box office (float)'] = money_conversion(movie.get('Box office', \"N/A\"))"
      ],
      "execution_count": null,
      "outputs": [
        {
          "output_type": "stream",
          "text": [
            "$1.49 million\n",
            "HERE\n",
            "$418 million\n",
            "HERE\n",
            "$2.6 million\n",
            "HERE\n",
            "$164 million\n",
            "HERE\n",
            "$2.28 million\n",
            "HERE\n",
            "$76.4–$83.3 million\n",
            "HERE\n",
            "$600,000\n",
            "$960,000 (worldwide rentals)\n",
            "$950,000\n",
            "$1.3 million (est. United States/Canada rentals, 1941)\n",
            "HERE\n",
            "$858,000\n",
            "$267.4 million\n",
            "HERE\n",
            "$1,135,000 (worldwide rentals)\n",
            "$788,000\n",
            "$799,000\n",
            "$3,355,000 (worldwide rentals)\n",
            "$1.35 million\n",
            "HERE\n",
            "$3,275,000 (worldwide rentals)\n",
            "$2.125 million\n",
            "HERE\n",
            "$65 million\n",
            "HERE\n",
            "$3,165,000 (worldwide rentals)\n",
            "$1.5 million\n",
            "HERE\n",
            "$2,560,000 (worldwide rentals)\n",
            "$1.5 million\n",
            "HERE\n",
            "$3.7 million (U.S. rental) $575,000 (foreign rental)\n",
            "HERE\n",
            "$1,625,000 (worldwide rentals)\n",
            "$2.9 million\n",
            "HERE\n",
            "$263.6 million\n",
            "HERE\n",
            "$1,800,000\n",
            "$4,100,000 (worldwide rentals)\n",
            "$3 million\n",
            "HERE\n",
            "$5.6 million (US, 1951)\n",
            "HERE\n",
            "$2.1 million (US rentals)\n",
            "HERE\n",
            "$4 million\n",
            "HERE\n",
            "$87.4 million\n",
            "HERE\n",
            "$2 million\n",
            "HERE\n",
            "$1 million (US)\n",
            "HERE\n",
            "$300,000\n",
            "$2.6 million (US)\n",
            "HERE\n",
            "$1.8 million\n",
            "HERE\n",
            "$1.75 million (US and Canadian rentals)\n",
            "HERE\n",
            "$5 million\n",
            "HERE\n",
            "$28.2 million\n",
            "HERE\n",
            "$2,150,000 (US)\n",
            "$4 million\n",
            "HERE\n",
            "$187 million\n",
            "HERE\n",
            "$2.1 million (US)\n",
            "HERE\n",
            "$1.6 million (US)\n",
            "HERE\n",
            "$1.7 million (US)\n",
            "HERE\n",
            "$2.75 million (US)\n",
            "HERE\n",
            "$700,000\n",
            "$1.75 million (US rentals)\n",
            "HERE\n",
            "$6,250,000 (US/Canada rentals)\n",
            "$1.8 million (est. US/ Canada rentals)\n",
            "HERE\n",
            "$2.5 million (est. US/ Canada rentals)\n",
            "HERE\n",
            "$6 million\n",
            "HERE\n",
            "$51.6 million (United States/Canada)\n",
            "HERE\n",
            "under $1 million or $1,250,000\n",
            "HERE\n",
            "$12.3 million (US and Canada rentals)\n",
            "HERE\n",
            "Original release\n",
            "$2 million\n",
            "HERE\n",
            "$1,700,000 (US/Canada rentals)\n",
            "$3,100,000 (US/Canada rentals)\n",
            "$2.5 million\n",
            "HERE\n",
            "$3.75 million (US and Canadian rentals)\n",
            "HERE\n",
            "$2.3 million (US and Canadian rentals)\n",
            "HERE\n",
            "$4 million\n",
            "HERE\n",
            "$40 million\n",
            "HERE\n",
            "$3.6 million\n",
            "HERE\n",
            "$303 million\n",
            "HERE\n",
            "$25.4 million\n",
            "HERE\n",
            "$25.1 million\n",
            "HERE\n",
            "$3 million\n",
            "HERE\n",
            "$4.6 million (US/Canada rentals)\n",
            "HERE\n",
            "$3.5 million\n",
            "HERE\n",
            "$3 million\n",
            "HERE\n",
            "$5 million (rentals)\n",
            "HERE\n",
            "$21,745,500\n",
            "$22.1 million\n",
            "HERE\n",
            "$2,550,000 (US/ Canada)\n",
            "$3,000,000 (US/ Canada)\n",
            "$4,350,000 (US/ Canada rentals)\n",
            "$4.2 million (US/Canada) (rentals)\n",
            "HERE\n",
            "$3 million\n",
            "HERE\n",
            "$22.2 million\n",
            "HERE\n",
            "est. $1,600,000 (US/ Canada)\n",
            "$4,000,000 (US/ Canada)\n",
            "$2,250,000 (US/ Canada)\n",
            "est. $3,500,000 (US/ Canada)\n",
            "$4.4–6 million\n",
            "HERE\n",
            "$103.1 million\n",
            "HERE\n",
            "$1,275,000\n",
            "$3,500,000 (US/ Canada rentals)\n",
            "$4,000,000 (US/Canada rentals)\n",
            "$28,068,222\n",
            "$6.2 million (est. US/ Canada rentals)\n",
            "HERE\n",
            "$22,565,634\n",
            "$16,207,116\n",
            "$3,000,000 (US/ Canada)\n",
            "$1,900,000 (US/ Canada)\n",
            "$4,000,000 (US/ Canada)\n",
            "$4 million\n",
            "HERE\n",
            "$378 million\n",
            "HERE\n",
            "$5 million\n",
            "HERE\n",
            "$5 million (US/ Canada rentals)\n",
            "HERE\n",
            "$21,540,050\n",
            "$2,250,000 (US/ Canada)\n",
            "$4,150,000 (US/ Canada rentals)\n",
            "$3.3 million  (US/ Canada rentals)\n",
            "HERE\n",
            "$5 million\n",
            "HERE\n",
            "$51,264,000\n",
            "$1.3 million (US/ Canada rentals)\n",
            "HERE\n",
            "$5.5 million (US/ Canada rentals)\n",
            "HERE\n",
            "$18,607,492\n",
            "$4 million (rentals) (US/Canada)\n",
            "HERE\n",
            "$4 million\n",
            "HERE\n",
            "$191 million\n",
            "HERE\n",
            "$5.1 million (North America) (rentals)\n",
            "HERE\n",
            "$6.3 million\n",
            "HERE\n",
            "$17.9 million\n",
            "HERE\n",
            "$4,610,000 (US/Canada) (rentals)\n",
            "$6,100,000 (US/ Canada rentals)\n",
            "$22,583,370\n",
            "$2 million\n",
            "HERE\n",
            "$5 million\n",
            "HERE\n",
            "$32 million\n",
            "HERE\n",
            "$7 million (US/Canada rentals)\n",
            "HERE\n",
            "$38,229,000 (US/Canada gross)\n",
            "$4 million (rentals) (US/Canada)\n",
            "HERE\n",
            "$8 million\n",
            "HERE\n",
            "$10 million (US/Canada rentals)\n",
            "HERE\n",
            "$6.6 million (US/Canada rentals)\n",
            "HERE\n",
            "$20,000,000\n",
            "$36,853,000\n",
            "$5.5 million (North American rentals)\n",
            "HERE\n",
            "AU$1 million\n",
            "HERE\n",
            "$21,873,000\n",
            "$10.5 million (US and Canada rentals)\n",
            "HERE\n",
            "$5 million\n",
            "HERE\n",
            "$36 million\n",
            "HERE\n",
            "$7.5 million\n",
            "HERE\n",
            "$169 million\n",
            "HERE\n",
            "$29 million\n",
            "HERE\n",
            "$10 million\n",
            "HERE\n",
            "$36 –39.6 million\n",
            "$3.5 to 4 million\n",
            "HERE\n",
            "$20,931,111\n",
            "$5.25 million\n",
            "HERE\n",
            "$20 million\n",
            "HERE\n",
            "$35.8 million\n",
            "HERE\n",
            "$2.9 million\n",
            "HERE\n",
            "$9 million\n",
            "HERE\n",
            "$5 million\n",
            "HERE\n",
            "$18 million\n",
            "HERE\n",
            "$6-8 million\n",
            "HERE\n",
            "$11 million\n",
            "HERE\n",
            "$20 million\n",
            "HERE\n",
            "$60 million\n",
            "HERE\n",
            "$16 million (USA)\n",
            "HERE\n",
            "$18 million\n",
            "HERE\n",
            "$14.1 million\n",
            "HERE\n",
            "$12 million\n",
            "HERE\n",
            "$63.5 million\n",
            "HERE\n",
            "$14 million\n",
            "HERE\n",
            "$8 million\n",
            "HERE\n",
            "\n",
            "\n",
            "$5 million\n",
            "HERE\n",
            "$7.4 million\n",
            "HERE\n",
            "unknown\n",
            "$4,304,286 (US)\n",
            "$19 million (estimated)\n",
            "HERE\n",
            "$8.4 million\n",
            "HERE\n",
            "$11 million\n",
            "HERE\n",
            "$27.6 million\n",
            "HERE\n",
            "$28 million\n",
            "HERE\n",
            "$11.1 million (USA)\n",
            "HERE\n",
            "$25–44 million\n",
            "HERE\n",
            "$21.3 million (domestic)\n",
            "HERE\n",
            "$9.7 million (U.S. and Canada only)\n",
            "HERE\n",
            "$13,677,222\n",
            "$14 million\n",
            "HERE\n",
            "$38.7 million\n",
            "HERE\n",
            "$9 million\n",
            "HERE\n",
            "$18,564,613\n",
            "$22.3 million\n",
            "HERE\n",
            "A$8.7 million\n",
            "HERE\n",
            "$13,687,027\n",
            "$31 million\n",
            "HERE\n",
            ">$121 million\n",
            "HERE\n",
            "$18 million\n",
            "HERE\n",
            "$222.7 million\n",
            "HERE\n",
            "$5 million\n",
            "HERE\n",
            "$8,153,677 (United States)\n",
            "$40 million\n",
            "HERE\n",
            "\n",
            "$20 million\n",
            "HERE\n",
            "$18.1 million\n",
            "HERE\n",
            "$47.4 million\n",
            "HERE\n",
            "$14 million\n",
            "HERE\n",
            "$34.8 million\n",
            "HERE\n",
            "60 million Norwegian Kroner (around $8.7 million in 1989)\n",
            "HERE\n",
            "$15.1 million\n",
            "HERE\n",
            "$7.3 million\n",
            "HERE\n",
            "$35-40 million\n",
            "HERE\n",
            "$46.7 million (USA)\n",
            "HERE\n",
            "$25 million\n",
            "HERE\n",
            "$440.1 million\n",
            "HERE\n",
            "$15 million\n",
            "HERE\n",
            "$2.8 million\n",
            "HERE\n",
            "$40 million\n",
            "HERE\n",
            "$58.7 million\n",
            "HERE\n",
            "$14 million\n",
            "HERE\n",
            "$50.8 million\n",
            "HERE\n",
            "$28 million\n",
            "HERE\n",
            "$504.1 million\n",
            "HERE\n",
            "$12 million\n",
            "HERE\n",
            "$27.2 million\n",
            "HERE\n",
            "$41.8 million\n",
            "HERE\n",
            "$12.9 million\n",
            "HERE\n",
            "$6.5 million\n",
            "HERE\n",
            "$24.1 million\n",
            "HERE\n",
            "$28 million\n",
            "HERE\n",
            "$39.5 million\n",
            "HERE\n",
            "$17 million\n",
            "HERE\n",
            "$154.9 million\n",
            "HERE\n",
            "$30 million\n",
            "HERE\n",
            "$53.9 million\n",
            "HERE\n",
            "$21 million\n",
            "HERE\n",
            "$13 million\n",
            "HERE\n",
            "$30.6 million\n",
            "HERE\n",
            "$45.6 million\n",
            "HERE\n",
            "$8,878,839 (US)\n",
            "$45 million\n",
            "HERE\n",
            "$968.5 million\n",
            "HERE\n",
            "$31 million\n",
            "HERE\n",
            "$50.2 million\n",
            "HERE\n",
            "$3,337,685\n",
            "$22 million\n",
            "HERE\n",
            "$189.8 million\n",
            "HERE\n",
            "$30 million\n",
            "HERE\n",
            "$43.2 million\n",
            "HERE\n",
            "$17.6 million\n",
            "HERE\n",
            "$22 million\n",
            "HERE\n",
            "$40,070,995\n",
            "$32 million\n",
            "HERE\n",
            "$11 million\n",
            "HERE\n",
            "$35.3 million\n",
            "HERE\n",
            "$55 million\n",
            "HERE\n",
            "$346.1 million\n",
            "HERE\n",
            "$24 million\n",
            "HERE\n",
            "$24,670,346\n",
            "$15 million\n",
            "HERE\n",
            "$13.4 million (domestic)\n",
            "HERE\n",
            "$12 million\n",
            "HERE\n",
            "$17.7 million\n",
            "HERE\n",
            "$30 million\n",
            "HERE\n",
            "$373.6 million\n",
            "HERE\n",
            "$23.9 million\n",
            "HERE\n",
            "$31 million\n",
            "HERE\n",
            "$34.3 million (North America)\n",
            "HERE\n",
            "$32.7 million\n",
            "HERE\n",
            "$38 million\n",
            "HERE\n",
            "$28.9 million (U.S.)\n",
            "HERE\n",
            "$100 million\n",
            "HERE\n",
            "$325.3 million\n",
            "HERE\n",
            "$15 million\n",
            "HERE\n",
            "$26,491,793\n",
            "$22.9 million\n",
            "HERE\n",
            "$75 million\n",
            "HERE\n",
            "$320.7 million\n",
            "HERE\n",
            "$18.3 million\n",
            "HERE\n",
            "$32 million\n",
            "HERE\n",
            "$59.9 million\n",
            "HERE\n",
            "$85 million\n",
            "HERE\n",
            "$252.7 million\n",
            "HERE\n",
            "$55 million\n",
            "HERE\n",
            "$174.4 million\n",
            "HERE\n",
            "$3 million\n",
            "HERE\n",
            "$27.8 million\n",
            "HERE\n",
            "$16 million\n",
            "HERE\n",
            "$15.4 million\n",
            "HERE\n",
            "$80 million\n",
            "HERE\n",
            "$178 million\n",
            "HERE\n",
            "$30 million\n",
            "HERE\n",
            "$28.9 million\n",
            "HERE\n",
            "$24 million\n",
            "HERE\n",
            "$4.4 million\n",
            "HERE\n",
            "$90 million\n",
            "HERE\n",
            "$304.3 million\n",
            "HERE\n",
            "$15 million\n",
            "HERE\n",
            "$92.1 million\n",
            "HERE\n",
            "$30 million\n",
            "HERE\n",
            "$12.2 million\n",
            "HERE\n",
            "$120 million\n",
            "HERE\n",
            "$363.3 million\n",
            "HERE\n",
            "$90 million\n",
            "HERE\n",
            "$50.6 million (US)\n",
            "HERE\n",
            "$65 million\n",
            "HERE\n",
            "$36.8 million\n",
            "HERE\n",
            "$5 million\n",
            "HERE\n",
            "$19.4 million\n",
            "HERE\n",
            "$130 million\n",
            "HERE\n",
            "$448.2 million\n",
            "HERE\n",
            "$90 million\n",
            "HERE\n",
            "$134.4 million\n",
            "HERE\n",
            "$10 million\n",
            "HERE\n",
            "$6.2 million\n",
            "HERE\n",
            "$90 million\n",
            "HERE\n",
            "$497.4 million\n",
            "HERE\n",
            "$80–$85 million\n",
            "HERE\n",
            "$90.9 million\n",
            "HERE\n",
            "$15 million –$30 million\n",
            "HERE\n",
            "$96.2 million\n",
            "HERE\n",
            "$127.5 million\n",
            "HERE\n",
            "$349.8 million\n",
            "HERE\n",
            "$65 million\n",
            "HERE\n",
            "$110.3 million\n",
            "HERE\n",
            "$30 million\n",
            "HERE\n",
            "$136.7 million\n",
            "HERE\n",
            "$85 million\n",
            "HERE\n",
            "$183.6 million\n",
            "HERE\n",
            "$100 million\n",
            "HERE\n",
            "$169.3 million\n",
            "HERE\n",
            "$23 million\n",
            "HERE\n",
            "$44.5 million\n",
            "HERE\n",
            "$90–120 million\n",
            "HERE\n",
            "$186.1 million\n",
            "HERE\n",
            "$26 million\n",
            "HERE\n",
            "$165.3 million\n",
            "HERE\n",
            "$25 million\n",
            "HERE\n",
            "$18.6 million\n",
            "HERE\n",
            "$115 million\n",
            "HERE\n",
            "$577.4 million\n",
            "HERE\n",
            "$33 million\n",
            "HERE\n",
            "$115 million\n",
            "HERE\n",
            "$20 million\n",
            "HERE\n",
            "$115.1 million\n",
            "HERE\n",
            "$22 million\n",
            "HERE\n",
            "$80.7 million\n",
            "HERE\n",
            "$80 million\n",
            "HERE\n",
            "$273.1 million\n",
            "HERE\n",
            "$35 million\n",
            "HERE\n",
            "$18 million\n",
            "HERE\n",
            "$15 million\n",
            "HERE\n",
            "$19.3 million\n",
            "HERE\n",
            "$65 million\n",
            "HERE\n",
            "$172.9 million\n",
            "HERE\n",
            "$140 million\n",
            "HERE\n",
            "$109.6 million\n",
            "HERE\n",
            "$20 million\n",
            "HERE\n",
            "$135.7 million\n",
            "HERE\n",
            "$46 million\n",
            "HERE\n",
            "$62.9 million\n",
            "HERE\n",
            "$13 million\n",
            "HERE\n",
            "$28.7 million\n",
            "HERE\n",
            "$20 million\n",
            "HERE\n",
            "$71.4 million\n",
            "HERE\n",
            "$17 million\n",
            "HERE\n",
            "$55.5 million\n",
            "HERE\n",
            "$94 million\n",
            "HERE\n",
            "$940.3 million\n",
            "HERE\n",
            "$140 million\n",
            "HERE\n",
            "$654.3 million\n",
            "HERE\n",
            "$26 million\n",
            "HERE\n",
            "$160.8 million\n",
            "HERE\n",
            "$46 million\n",
            "HERE\n",
            "$250.4 million\n",
            "HERE\n",
            "$90 million\n",
            "HERE\n",
            "$182.3 million\n",
            "HERE\n",
            "$9,638,389\n",
            "$10 million\n",
            "HERE\n",
            "$6.5 million\n",
            "HERE\n",
            "$28 million\n",
            "HERE\n",
            "$64.5 million\n",
            "HERE\n",
            "$15 million\n",
            "HERE\n",
            "$33.1 million\n",
            "HERE\n",
            "$110 million\n",
            "HERE\n",
            "$145.5 million\n",
            "HERE\n",
            "$1,108,356\n",
            "$110 million\n",
            "HERE\n",
            "$72.2 million\n",
            "HERE\n",
            "$314,402\n",
            "$45 million\n",
            "HERE\n",
            "$134.7 million\n",
            "HERE\n",
            "$92 million\n",
            "HERE\n",
            "$633 million\n",
            "HERE\n",
            "$100 million\n",
            "HERE\n",
            "$347.5 million\n",
            "HERE\n",
            "$9 million\n",
            "HERE\n",
            "$20 million\n",
            "HERE\n",
            "$52.9 million\n",
            "HERE\n",
            "$56 million\n",
            "HERE\n",
            "$198.6 million\n",
            "HERE\n",
            "$25 million\n",
            "HERE\n",
            "$27.6 million\n",
            "HERE\n",
            "$50 million\n",
            "HERE\n",
            "$144.1 million\n",
            "HERE\n",
            "$35 million\n",
            "HERE\n",
            "$86.4 million\n",
            "HERE\n",
            "$35 million\n",
            "HERE\n",
            "$61.7 million\n",
            "HERE\n",
            "$25 million\n",
            "HERE\n",
            "$15.4 million\n",
            "HERE\n",
            "$150 million\n",
            "HERE\n",
            "$314.4 million\n",
            "HERE\n",
            "$180 million\n",
            "HERE\n",
            "$745 million\n",
            "HERE\n",
            "$30 million\n",
            "HERE\n",
            "$42.9 million\n",
            "HERE\n",
            "$1 million\n",
            "HERE\n",
            "$11 million\n",
            "HERE\n",
            "$40 million\n",
            "HERE\n",
            "$120.5 million\n",
            "HERE\n",
            "$50 million\n",
            "HERE\n",
            "$87.1 million\n",
            "HERE\n",
            "$80 million\n",
            "HERE\n",
            "$102.3 million\n",
            "HERE\n",
            "$120 million\n",
            "HERE\n",
            "$462 million\n",
            "HERE\n",
            "$225 million\n",
            "HERE\n",
            "$1.066 billion\n",
            "HERE\n",
            "$30 million\n",
            "HERE\n",
            "$58.5 million\n",
            "HERE\n",
            "$18 million\n",
            "HERE\n",
            "$89.1 million\n",
            "HERE\n",
            "$12 million\n",
            "HERE\n",
            "$110.8 million\n",
            "HERE\n",
            "$20–25 million\n",
            "HERE\n",
            "$138 million\n",
            "HERE\n",
            "$169.3 million\n",
            "HERE\n",
            "$300 million\n",
            "HERE\n",
            "$961 million\n",
            "HERE\n",
            "$150 million\n",
            "HERE\n",
            "$620.7 million\n",
            "HERE\n",
            "$25 million\n",
            "HERE\n",
            "$65.3 million\n",
            "HERE\n",
            "$22 million\n",
            "HERE\n",
            "$146.6 million\n",
            "HERE\n",
            "$85 million\n",
            "HERE\n",
            "$340.5 million\n",
            "HERE\n",
            "$130 million\n",
            "HERE\n",
            "$459.2 million\n",
            "HERE\n",
            "$7 million\n",
            "HERE\n",
            "$70.6 million\n",
            "HERE\n",
            "$25 million\n",
            "HERE\n",
            "$51.5 million\n",
            "HERE\n",
            "$225 million\n",
            "HERE\n",
            "$419.7 million\n",
            "HERE\n",
            "$180 million\n",
            "HERE\n",
            "$533.3 million\n",
            "HERE\n",
            "$20 million\n",
            "HERE\n",
            "$149.3 million\n",
            "HERE\n",
            "$275,776\n",
            "$11 million\n",
            "HERE\n",
            "$252.9 million\n",
            "HERE\n",
            "$150 million\n",
            "HERE\n",
            "$310 million\n",
            "HERE\n",
            "$80 million\n",
            "HERE\n",
            "$212.9 million\n",
            "HERE\n",
            "$23.1 million\n",
            "HERE\n",
            "$50 million\n",
            "HERE\n",
            "$106.4 million\n",
            "HERE\n",
            "$30 million\n",
            "HERE\n",
            "$169.2  million\n",
            "$47 million\n",
            "HERE\n",
            "$109 million\n",
            "HERE\n",
            "$175 million\n",
            "HERE\n",
            "$735.1 million\n",
            "HERE\n",
            "$150 million\n",
            "HERE\n",
            "$292.8 million\n",
            "HERE\n",
            "$8 million ( ₽ 350 million)\n",
            "HERE\n",
            "$11.3 million\n",
            "HERE\n",
            "$175-200 million\n",
            "HERE\n",
            "$325 million\n",
            "HERE\n",
            "$35 million\n",
            "HERE\n",
            "$96.8 million\n",
            "HERE\n",
            "$105 million\n",
            "HERE\n",
            "$269 million\n",
            "HERE\n",
            "$150 –$200 million\n",
            "HERE\n",
            "$1.025 billion\n",
            "HERE\n",
            "$84,918\n",
            "$80 million\n",
            "HERE\n",
            "$82.7 million\n",
            "HERE\n",
            "$150  million\n",
            "$336.4 million\n",
            "HERE\n",
            "$200 million\n",
            "HERE\n",
            "$1.067 billion\n",
            "HERE\n",
            "$150 million\n",
            "HERE\n",
            "$215.3 million\n",
            "HERE\n",
            "$35 million\n",
            "HERE\n",
            "$60.3 million\n",
            "HERE\n",
            "$260 million\n",
            "HERE\n",
            "$592.4 million\n",
            "HERE\n",
            "$55,513\n",
            "$150 million\n",
            "HERE\n",
            "$410 million\n",
            "HERE\n",
            "(US$3.8 million)\n",
            "HERE\n",
            "(US$5.4 million)\n",
            "HERE\n",
            "$150 million\n",
            "HERE\n",
            "$39.2 million\n",
            "HERE\n",
            "$5 million\n",
            "HERE\n",
            "$30.9 million\n",
            "HERE\n",
            "$8 million\n",
            "HERE\n",
            "$10.1 million\n",
            "HERE\n",
            "$410.6 million (gross)\n",
            "HERE\n",
            "$1.046 billion\n",
            "HERE\n",
            "$200 million\n",
            "HERE\n",
            "$562.1 million\n",
            "HERE\n",
            "$30 million\n",
            "HERE\n",
            "$50.1 million\n",
            "HERE\n",
            "$45 million\n",
            "HERE\n",
            "$165.2 million\n",
            "HERE\n",
            "$306.6 million (gross)\n",
            "HERE\n",
            "$284.1 million\n",
            "HERE\n",
            "$5 million\n",
            "HERE\n",
            "$34.8 million\n",
            "HERE\n",
            "$185 million\n",
            "HERE\n",
            "$540.4 million\n",
            "HERE\n",
            "$25 million\n",
            "HERE\n",
            "$56 million\n",
            "HERE\n",
            "$39 million\n",
            "HERE\n",
            "$81.5 million\n",
            "HERE\n",
            "$165 million\n",
            "HERE\n",
            "$471.2 million\n",
            "HERE\n",
            "$200–215 million\n",
            "HERE\n",
            "$493.3 million\n",
            "HERE\n",
            "$200 million\n",
            "HERE\n",
            "$743.6 million\n",
            "HERE\n",
            "$225–250 million\n",
            "HERE\n",
            "$260.5 million\n",
            "HERE\n",
            "$50 million\n",
            "HERE\n",
            "$239.3 million\n",
            "HERE\n",
            "$150 million\n",
            "HERE\n",
            "$1.280 billion\n",
            "HERE\n",
            "$35 million\n",
            "HERE\n",
            "$117.9 million\n",
            "HERE\n",
            "$51 million\n",
            "HERE\n",
            "$80.4 million\n",
            "HERE\n",
            "$5 million\n",
            "HERE\n",
            "$21.3 million\n",
            "HERE\n",
            "$25 million\n",
            "HERE\n",
            "$39.2 million\n",
            "HERE\n",
            "$180–263 million\n",
            "HERE\n",
            "$758.5 million\n",
            "HERE\n",
            "$50 million\n",
            "HERE\n",
            "$147 million\n",
            "HERE\n",
            "(US$3.2 million)\n",
            "HERE\n",
            "est. (US$11 million)\n",
            "HERE\n",
            "$28 million\n",
            "HERE\n",
            "$100.7 million\n",
            "HERE\n",
            "$165 million\n",
            "HERE\n",
            "$657.8 million\n",
            "HERE\n",
            "$50 million\n",
            "HERE\n",
            "$213.1 million\n",
            "HERE\n",
            "$25 million\n",
            "HERE\n",
            "$45.7 million\n",
            "HERE\n",
            "$95–100 million\n",
            "HERE\n",
            "$542.4 million\n",
            "HERE\n",
            "$5–10 million\n",
            "HERE\n",
            "$17.1 million\n",
            "HERE\n",
            "$180–190 million\n",
            "HERE\n",
            "$209 million\n",
            "HERE\n",
            "$175 million\n",
            "HERE\n",
            "$858 million\n",
            "HERE\n",
            "\n",
            "est.\n",
            "$175 million\n",
            "HERE\n",
            "$332.2 million\n",
            "HERE\n",
            "$70–80 million\n",
            "HERE\n",
            "$52.1 million\n",
            "HERE\n",
            "$150 million\n",
            "HERE\n",
            "$1.024 billion\n",
            "HERE\n",
            "$175–177 million\n",
            "HERE\n",
            "$966.6 million\n",
            "HERE\n",
            "$8.7 million\n",
            "HERE\n",
            "$170 million\n",
            "HERE\n",
            "$300 million\n",
            "HERE\n",
            "$175–200 million\n",
            "HERE\n",
            "$1.029 billion\n",
            "HERE\n",
            "$140 million\n",
            "HERE\n",
            "$195.2 million\n",
            "HERE\n",
            "$65 million\n",
            "HERE\n",
            "$143.7 million\n",
            "HERE\n",
            "$15 million\n",
            "HERE\n",
            "$10.4 million\n",
            "HERE\n",
            "$150–175 million\n",
            "HERE\n",
            "$690.8 million\n",
            "HERE\n",
            "70 crore\n",
            "est.\n",
            "$8 million\n",
            "HERE\n",
            "$127.4 million\n",
            "HERE\n",
            "$160–255 million\n",
            "HERE\n",
            "$1.264 billion\n",
            "HERE\n",
            "$5–10 million\n",
            "HERE\n",
            "$25.1 million\n",
            "HERE\n",
            "$230–320 million\n",
            "HERE\n",
            "$794.9 million\n",
            "HERE\n",
            "$175 million\n",
            "HERE\n",
            "$383.9 million\n"
          ],
          "name": "stdout"
        },
        {
          "output_type": "stream",
          "text": [
            "HERE\n",
            "1.31 billion\n",
            "833.5 million\n",
            "$175 million\n",
            "HERE\n",
            "$807.1 million\n",
            "HERE\n",
            "$100–130 million\n",
            "HERE\n",
            "$133.4 million\n",
            "HERE\n",
            "$200 million\n",
            "HERE\n",
            "$1.243 billion\n",
            "HERE\n",
            "$75 million\n",
            "HERE\n",
            "$197.7 million\n",
            "HERE\n",
            "$120–133 million\n",
            "HERE\n",
            "$174 million\n",
            "HERE\n",
            "$175 million\n",
            "HERE\n",
            "$529.3 million\n",
            "HERE\n",
            "$130 million\n",
            "HERE\n",
            "$349.5 million\n",
            "HERE\n",
            "$170 million\n",
            "HERE\n",
            "$353.3 million\n",
            "HERE\n",
            "$7.7\n",
            " million\n",
            "$183 million\n",
            "HERE\n",
            "\n",
            "$200 million\n",
            "HERE\n",
            "$1.073 billion\n",
            "HERE\n",
            "$250–260 million\n",
            "HERE\n",
            "$1.657 billion\n",
            "HERE\n",
            "$185 million\n",
            "HERE\n",
            "$491.7 million\n",
            "HERE\n",
            "$60 million\n",
            "HERE\n",
            "$150 million\n",
            "HERE\n",
            "$1.450 billion\n",
            "HERE\n",
            "$40 million\n",
            "HERE\n",
            "$42 million\n",
            "HERE\n",
            "$175–200 million\n",
            "HERE\n",
            "$136.4 million\n",
            "HERE\n",
            "$125 million\n",
            "HERE\n",
            "$12.5 million (stage production)\n",
            "HERE\n",
            "$24 million\n",
            "HERE\n",
            "$200 million\n",
            "HERE\n",
            "$57 million\n",
            "HERE\n",
            "$150 million+\n",
            "HERE\n"
          ],
          "name": "stdout"
        }
      ]
    },
    {
      "cell_type": "code",
      "metadata": {
        "id": "2KptgPmPDio-",
        "outputId": "de752e4b-d5c2-4753-b67e-e462705faece"
      },
      "source": [
        "money_conversion(str(movie_info_list[-40][\"Budget\"]))"
      ],
      "execution_count": null,
      "outputs": [
        {
          "output_type": "execute_result",
          "data": {
            "text/plain": [
              "160000000.0"
            ]
          },
          "metadata": {
            "tags": []
          },
          "execution_count": 54
        }
      ]
    },
    {
      "cell_type": "code",
      "metadata": {
        "id": "U8-fJE1sDipD",
        "outputId": "b4c638be-c6e8-4302-b864-124f34805632"
      },
      "source": [
        "# Convert Dates into datetimes\n",
        "print([movie.get('Release date', 'N/A') for movie in movie_info_list])"
      ],
      "execution_count": null,
      "outputs": [
        {
          "output_type": "stream",
          "text": [
            "[['May 19, 1937'], ['December 21, 1937 ( Carthay Circle Theatre , Los Angeles , CA )', 'February 4, 1938 (United States)'], ['February 7, 1940 ( Center Theatre )', 'February 23, 1940 (United States)'], ['November 13, 1940'], ['June 20, 1941'], ['October 23, 1941 (New York City)', 'October 31, 1941 (U.S.)'], ['August 9, 1942 (World Premiere-London)', 'August 13, 1942 (Premiere-New York City)', 'August 21, 1942 (U.S.)'], ['August 24, 1942 (World Premiere-Rio de Janeiro)', 'February 6, 1943 (U.S. Premiere-Boston)', 'February 19, 1943 (U.S.)'], ['July 17, 1943'], ['December 21, 1944 (Mexico City)', 'February 3, 1945 (US)'], ['April 20, 1946 (Premiere-New York City)', 'August 15, 1946 (U.S.)'], ['November 12, 1946 (Premiere: Atlanta, Georgia)', 'November 20, 1946'], ['September 27, 1947'], 'May 27, 1948', ['November 29, 1948 (Chicago, Illinois)', 'January 19, 1949 (Indianapolis, Indiana)'], ['October 5, 1949'], ['February 15, 1950 (Boston)', 'March 4, 1950 (United States)'], ['June 22, 1950 (World Premiere- London )', 'July 29, 1950 ( US )'], ['July 26, 1951 (London, premiere)', 'July 28, 1951 (New York City, premiere)'], ['March 13, 1952 (Premiere- London )', 'June 26, 1952 ( US )'], ['February 5, 1953 (United States)'], ['August 8, 1953 ( US )'], 'November 10, 1953', ['26 October 1953 (Premiere- London )', '4 February 1954 ( US )'], ['August 17, 1954'], ['December 23, 1954'], 'May 25, 1955', ['June 22, 1955'], ['September 14, 1955'], 'December 22, 1955', 'June 8, 1956', 'July 18, 1956', ['November 6, 1956'], ['December 20, 1956'], 'June 19, 1957', 'August 28, 1957', ['December 25, 1957'], ['July 9, 1958'], ['August 12, 1958'], ['December 25, 1958'], ['January 29, 1959'], ['March 19, 1959'], ['June 24, 1959 (Dublin)', 'June 26, 1959 (Los Angeles)'], ['November 10, 1959'], 'January 21, 1960 ( Sarasota, FL )', ['February 24, 1960'], 'May 19, 1960', ['August 10, 1960'], ['November 1, 1960'], ['December 21, 1960'], ['January 25, 1961'], 'March 16, 1961', ['June 21, 1961'], ['July 12, 1961'], ['July 17, 1961'], ['December 14, 1961'], 'April 5, 1962', ['May 17, 1962'], ['June 6, 1962'], 'September 26, 1962', ['November 7, 1962 (Los Angeles)'], 'December 19, 1962', ['January 16, 1963'], ['March 29, 1963 (U.S.)'], 'June 1, 1963', ['July 7, 1963'], 'November 20, 1963', ['December 25, 1963'], 'March 12, 1964', ['February 11, 1964 (Los Angeles)'], ['11\\xa0December\\xa01963', '(', 'New York City, New York', ')', '4\\xa0June\\xa01964', '(United States)'], ['July 2, 1964'], ['August 27, 1964'], ['December 18, 1964'], ['January 28, 1965', '(', 'Atlanta, Georgia', 'Premiere)'], ['August 18, 1965 (Los Angeles)'], ['December 2, 1965'], ['February\\xa04,\\xa01966', '(premiere)', 'February\\xa016,\\xa01966'], ['June 25, 1966 (San Diego)', 'June 29, 1966 (U.S.)'], 'October 1, 1966', ['December 1, 1966'], ['February 8, 1967 (San Francisco)'], ['March 8, 1967 (United States)'], ['July 12, 1967'], ['October 18, 1967'], ['October 18, 1967'], ['June 23, 1967', 'November 30, 1967'], ['February 8, 1968'], ['March 21, 1968 ( Radio City Music Hall )'], ['June 26, 1968'], ['December 20, 1968'], ['December 24, 1968 (limited)', 'March 13, 1969 (wide)'], ['March 21, 1969'], 'June 11, 1969', ['December 31, 1969'], ['February 11, 1970'], 'July 1, 1970', ['December 15, 1970 (original release)', 'January 20, 1971'], ['December 11, 1970 (premiere)', 'December 24, 1970 (United States)'], 'March 17, 1971', 'June 22, 1971', ['June 30, 1971'], ['October 7, 1971 (United Kingdom)', 'December 13, 1971 (United States)'], ['March 22, 1972 (US)'], 'July 12, 1972', ['July 5, 1972'], ['October 18, 1972'], ['December 22, 1972'], 'February 1, 1973', ['March 23, 1973'], ['June 20, 1973'], ['November 8, 1973'], ['December 14, 1973'], ['June 6, 1974'], ['July 31, 1974'], ['August 1, 1974'], 'December 20, 1974 (with Winnie the Pooh and Tigger Too )', ['February 6, 1975'], ['March 21, 1975 (U.S.)'], ['July 24, 1975'], ['July 9, 1975'], ['October 8, 1975'], 'December 25, 1975', ['February 11, 1976 (Los Angeles)'], ['July 1, 1976'], ['July 7, 1976'], ['December 17, 1976'], ['December 17, 1976'], ['May 26, 1976', '(UK)', 'March 11, 1977', '(US)'], ['March 11, 1977'], ['June 22, 1977'], ['June 22, 1977'], ['June 24, 1977'], ['November 3, 1977'], 'December 16, 1977', ['March 10, 1978'], ['June 30, 1978 (New York)'], 'July 5, 1978', 'February 9, 1979', ['June 27, 1979'], ['July 19, 1979 (London)', 'August 3, 1979 (Los Angeles)'], ['December 18, 1979 (United Kingdom)', 'December 21, 1979 (United States)'], 'December 21, 1979', ['February 8, 1980'], ['April 17, 1980 (New York City)', 'October 9, 1981 (U.S.)'], ['June 27, 1980'], ['July 9, 1980 (Los Angeles)'], ['December 6, 1980'], 'February 11, 1981 (Los Angeles)', 'March 20, 1981', ['June 26, 1981'], ['July 10, 1981'], ['August 7, 1981'], 'February 5, 1982', ['July 9, 1982'], 'July 30, 1982', ['March 11, 1983'], ['April 29, 1983 (United States)'], ['October 7, 1983 (limited)', 'January 27, 1984'], ['June 21, 1985 (United States)'], ['July 26, 1985'], ['September 27, 1985'], ['November 22, 1985'], ['July 2, 1986'], ['August 1, 1986'], ['June 5, 1987'], ['24 March 1988 (Australia)', '15 April 1988 (United States)'], ['November 18, 1988'], ['June 23, 1989'], 'August 18, 1989', ['November 17, 1989'], ['August 3, 1990'], ['November 16, 1990'], ['January 18, 1991'], ['3 October 1990'], ['May 24, 1991'], ['June 21, 1991'], ['September 29, 1991 ( NYFF )', 'November 22, 1991 (United States)'], ['April 10, 1992'], ['July 17, 1992'], ['October 2, 1992'], ['November 25, 1992'], ['December 11, 1992'], 'February 3, 1993', ['March 12, 1993'], ['April 2, 1993'], ['July 16, 1993'], ['October 1, 1993'], ['November 12, 1993'], ['January 14, 1994'], ['February 11, 1994'], ['March 25, 1994'], ['April 15, 1994'], ['June 15, 1994', 'June 24, 1994'], ['July 15, 1994'], ['October 28, 1994'], ['November 11, 1994'], ['December 25, 1994'], ['February 17, 1995'], ['March 3, 1995'], ['March 24, 1995'], ['April 7, 1995'], ['June 23, 1995'], ['July 28, 1995'], ['August 11, 1995'], ['September 29, 1995'], ['January 22, 1995 ( Sundance Film Festival )', 'October 20, 1995 (U.S.)'], ['November 19, 1995 ( El Capitan Theatre )', 'November 22, 1995 (United States)'], ['December 22, 1995'], ['February 16, 1996'], ['March 8, 1996'], ['April 12, 1996 (United States)', 'August 2, 1996 (United Kingdom)'], ['June 21, 1996'], ['August 30, 1996'], ['October 4, 1996'], ['November 27, 1996'], ['February 14, 1997'], ['March 7, 1997 (US)', 'August 5, 1998 (France)'], ['June 13, 1997 (limited release)', 'June 27, 1997 (wide release)'], ['July 16, 1997'], 'August 1, 1997', ['October 10, 1997'], ['November 16, 1997 ( Pennsylvania )', 'November 26, 1997 (United States)'], ['December 25, 1997'], ['March 27, 1998 (United States)'], ['June 19, 1998'], ['July 29, 1998 (United States)'], ['November 13, 1998'], ['November 20, 1998'], ['December 25, 1998'], ['February 12, 1999'], ['March 26, 1999'], ['February 5, 1999'], ['June 12, 1999 ( El Capitan Theatre )', 'June 16, 1999 (United States )'], ['July 23, 1999'], ['May 1999 ( Cannes )', 'October 15, 1999 (United States)'], ['November 13, 1999 ( El Capitan Theatre )', 'November 24, 1999 (United States)'], ['December 17, 1999 ( Carnegie Hall )', 'January 1, 2000 ( IMAX )', 'June 16, 2000 (United States)'], ['February 11, 2000 (United States)'], ['May 19, 2000 (United States)'], ['July 7, 2000'], ['September 29, 2000'], ['November 22, 2000'], ['December 15, 2000'], ['February 10, 2001 (premiere)', 'February 16, 2001 (United States)'], ['June 3, 2001 (Premiere)', 'June 15, 2001 (United States)'], ['August 3, 2001'], ['October 5, 2001'], ['October 28, 2001 ( El Capitan Theatre )', 'November 2, 2001 (United States)'], ['January 18, 2002'], ['February 10, 2002 ( New York City )', 'February 15, 2002 (United States)'], ['March 29, 2002'], ['June 21, 2002'], ['July 21, 2002', 'July 26, 2002'], ['October 11, 2002 (U.S.)'], ['November 1, 2002 (United States)'], ['November 27, 2002'], ['February 14, 2003'], ['March 16, 2003 (premiere)', 'March 21, 2003 (United States)', 'July 2, 2003 ( Manila , Philippines )'], ['March 31, 2003 (premiere)', 'April 11, 2003 (limited)'], ['April 18, 2003 (United States)'], ['May 2, 2003 (United States)'], ['May 30, 2003'], ['June 28, 2003 ( Disneyland Resort )', 'July 9, 2003 (United States)'], ['August 4, 2003 ( Los Angeles )', 'August 6, 2003 (United States)'], ['November 1, 2003'], ['November 26, 2003'], ['December 25, 2003'], ['January 16, 2004'], ['February 6, 2004'], ['February 20, 2004 (United States)'], ['April 2, 2004'], ['April 22, 2004'], ['June 13, 2004 (Los Angeles, California)', 'June 16, 2004 (United States)'], ['July 2, 2004'], ['August 11, 2004'], ['October 27, 2004 ( BFI London Film Festival )', 'November 5, 2004 (United States)'], ['November 19, 2004'], ['January 28, 2005'], ['February 11, 2005'], ['March 4, 2005'], ['March 18, 2005'], ['June 22, 2005'], ['July 29, 2005'], ['March 25, 2005 (UK)', 'August 19, 2005 (US)'], ['September 30, 2005'], ['October 30, 2005 ( El Capitan Theatre )', 'November 4, 2005 (United States)'], ['December 7, 2005 ( Royal Film Performance )', 'December 8, 2005 (United Kingdom)', 'December 9, 2005 (United States)'], 'January 13, 2006', ['January 27, 2006'], ['February 17, 2006 (United States)'], ['March 10, 2006'], ['April 14, 2006'], [\"May 26, 2006 ( Lowe's Motor Speedway )\", 'June 9, 2006 (United States)'], ['June 24, 2006 ( Disneyland Resort )', 'July 7, 2006 (United States)'], ['August 25, 2006'], ['October 29, 1993'], ['November 3, 2006'], ['February 16, 2007'], ['March 23, 2007 (US)', 'March 30, 2007 (UK)'], ['May 19, 2007 ( Disneyland Resort )', 'May 25, 2007 (United States)'], ['June 22, 2007 ( Kodak Theatre )', 'June 29, 2007 (United States)'], ['August 3, 2007'], ['August 28, 2007'], ['September 23, 2007 ( Hollywood )', 'September 28, 2007 (United States)'], ['October 20, 2007 ( London )', 'November 21, 2007 (United States)'], ['December 21, 2007'], 'February 1, 2008', ['March 7, 2008'], ['May 7, 2008 ( New York City )', 'May 16, 2008 (United States)', 'June 26, 2008 (United Kingdom)'], ['June 23, 2008 ( Los Angeles )', 'June 27, 2008 (United States)'], ['September 26, 2008 (United States)'], 'October 17, 2008', ['October 17, 2008 (London)', 'October 24, 2008 (United States)'], ['November 21, 2008'], ['December 25, 2008'], ['February 27, 2009'], ['March 11, 2009 (Egypt)', 'March 13, 2009 (United States)'], ['April 10, 2009'], ['October 10, 2007 (France)', 'November 16, 2007 (United Kingdom)', 'January 12, 2008 (Germany)', 'April 22, 2009 (United States)'], ['May 29, 2009'], 'N/A', ['July 24, 2009'], ['2008'], ['2009'], ['November 3, 2009 ( London )', 'November 6, 2009 (United States)'], ['November 25, 2009'], ['November 25, 2009 (Los Angeles premiere)', 'December 11, 2009 (United States)'], ['February 25, 2010 ( Odeon Leicester Square )', 'March 5, 2010 (United States)'], ['September 6, 2009 ( Telluride Film Festival )', 'March 26, 2010'], ['October 17, 2009 ( Tokyo International Film Festival )', 'January 24, 2010 (France)'], ['May 9, 2010 (London premiere)', 'May 28, 2010 (United States)'], ['June 12, 2010 ( Taormina Film Fest )', 'June 18, 2010 (United States)'], ['July 8, 2010 (Fantasia Film Festival)', 'July 14, 2010'], ['26 October 2008 ( France )', '29 September 2009 ( United Kingdom )'], ['September 30, 2010 ( Hollywood )', 'October 8, 2010 (United States)'], ['8 October 2010'], ['November 14, 2010 ( El Capitan Theatre )', 'November 24, 2010 (United States)'], ['April 24, 2009 (San Francisco International Film Festival)', 'May 22, 2009 (United States)'], ['November 30, 2010 (Tokyo)', 'December 17, 2010 (United States)'], ['14 January 2011 (India)'], ['17 February 2011'], ['March 11, 2011'], ['22 April 2011'], ['April 22, 2011 (United States)', 'February 1, 2012 (France)', 'April 27, 2012 (United Kingdom)'], ['April 29, 2011'], ['May 7, 2011 ( Disneyland Resort )', 'May 20, 2011 (United States)'], ['June 18, 2011 (Hollywood)', 'June 24, 2011 (United States)'], ['April 6, 2011 (Belgium)', 'July 15, 2011 (United States)'], ['November 4, 2011 (Savannah Film Festival)', 'November 23, 2011 (United States)'], ['February 22, 2012 ( Los Angeles )', 'March 9, 2012 (United States)'], ['April 20, 2012 (United States)', 'February 20, 2013 (France)', 'May 3, 2013 (United Kingdom)'], ['25 May 2012'], ['June 10, 2012 ( SIFF )', 'June 22, 2012 (United States)'], ['August 15, 2012'], ['September 20, 2012 (Fantastic Fest)', 'October 5, 2012 (United States)'], ['October 29, 2012 ( El Capitan Theatre )', 'November 2, 2012 (United States)'], ['February 14, 2013 ( El Capitan Theatre )', 'March 8, 2013 (United States)'], ['16 March 2011 (France)', '16 April 2013 (United States)'], ['June 5, 2013 ( BFI Southbank )', 'June 21, 2013 (United States)'], ['June 22, 2013 ( Hyperion Theatre )', 'July 3, 2013 (United States)'], ['August 2, 2013 ( EAA AirVenture Oshkosh )', 'August 9, 2013'], ['November 19, 2013 ( El Capitan Theatre )', 'November 22, 2013 (United States)'], ['October 20, 2013 ( BFI London Film Festival )', 'November 29, 2013 (United Kingdom)', 'December 13, 2013 (United States)', 'January 9, 2014 (Australia)'], ['March 11, 2014 ( El Capitan Theatre )', 'March 21, 2014 (United States)'], ['April 18, 2014 (United States)'], ['May 6, 2014 ( El Capitan Theatre )', 'May 16, 2014 (United States)'], ['May 28, 2014 ( El Capitan Theatre )', 'May 30, 2014 (United States)'], ['July 15, 2014 ( El Capitan Theatre )', 'July 18, 2014 (United States)'], ['19 September 2014'], ['October 6, 2014 ( El Capitan Theatre )', 'October 10, 2014 (United States)'], ['October 23, 2014 ( Tokyo International Film Festival )', 'November 7, 2014 (United States)'], ['December 8, 2014 ( Ziegfeld Theatre )', 'December 25, 2014 (United States)'], ['February 9, 2015 ( Hollywood )', 'February 20, 2015 (United States)'], ['February 13, 2015 ( Berlin )', 'March 13, 2015 (United States)', 'March 27, 2015 (United Kingdom)'], ['April 17, 2015 (United States)'], ['May 9, 2015 ( Disneyland )', 'May 22, 2015 (United States)'], ['May 18, 2015 ( Cannes )', 'June 19, 2015 (United States)'], ['19 June 2015'], ['November 10, 2015 ( Paris )', 'November 25, 2015 (United States)'], ['January 25, 2016 ( TCL Chinese Theatre )', 'January 29, 2016 (United States)'], ['February 13, 2016 (Belgium)', 'March 4, 2016 (United States)'], ['April 4, 2016 ( El Capitan Theatre )', 'April 15, 2016 (United States)'], ['April 23, 2016 (Amsterdam)', 'May 6, 2016 (Spain)', 'May 12, 2016 (Italy)'], ['May 10, 2016 ( London )', 'May 27, 2016 (United States)'], ['June 8, 2016 ( El Capitan Theatre )', 'June 17, 2016 (United States)'], ['May 14, 2016 ( Cannes )', 'July 1, 2016 (United States)'], ['August 8, 2016 ( El Capitan Theatre )', 'August 12, 2016 (United States)'], ['September 10, 2016 ( TIFF )', 'September 23, 2016 (United States)'], ['November 14, 2016 ( AFI Fest )', 'November 23, 2016 (United States)'], ['21 December 2016 (United States)', '23 December 2016 (India)'], ['26 January 2005'], ['February 23, 2017 ( Spencer House )', 'March 17, 2017 (United States)'], ['August 12, 2016 (China)', 'April 21, 2017 (United States)', 'August 23, 2017 (France)'], ['May 11, 2017 ( Shanghai )', 'May 26, 2017 (United States)'], ['May 23, 2017 ( Kannapolis )', 'June 16, 2017 (United States)'], ['June 30, 2017 (United States)'], ['14 July 2017'], ['October 20, 2017 ( Morelia )', 'November 22, 2017 (United States)'], ['February 26, 2018 ( El Capitan Theatre )', 'March 9, 2018 (United States)'], ['June 5, 2018 ( Los Angeles )', 'June 15, 2018 (United States)'], ['July 30, 2018 ( Burbank )', 'August 3, 2018 (United States)'], ['October 29, 2018 ( Dolby Theatre )', 'November 2, 2018 (United States)'], ['November 5, 2018 ( El Capitan Theatre )', 'November 21, 2018 (United States)'], ['November 29, 2018 ( Dolby Theatre )', 'December 19, 2018 (United States)'], ['March 11, 2019 ( Los Angeles )', 'March 29, 2019 (United States)'], ['April 17, 2019 (United States)'], ['May 8, 2019 ( Grand Rex )', 'May 24, 2019 (United States)'], ['June 11, 2019 ( El Capitan Theatre )', 'June 21, 2019 (United States)'], ['July 9, 2019 ( Hollywood )', 'July 19, 2019 (United States)'], ['October 18, 2019'], ['November 12, 2019 (United States)'], ['November 12, 2019 (United States)'], ['November 7, 2019 ( Dolby Theatre )', 'November 22, 2019 (United States)'], ['December 20, 2019 (United States)'], ['January 25, 2020 ( Sundance )', 'February 7, 2020 ( Disney+ )'], ['February 21, 2020 ( Berlinale )', 'March 6, 2020 (United States)'], ['March 13, 2020 (United States)'], ['March 28, 2018 (France)', 'April 3, 2020 ( Disney+ )'], ['April 3, 2020'], ['June 12, 2020'], ['July 3, 2020'], ['July 31, 2020'], ['August 14, 2020'], ['August 21, 2020 (United States)'], ['March 9, 2020 ( Hollywood )', 'September 4, 2020 (United States)'], ['October 16, 2020'], ['October 15, 2020 ( Rome Film Festival )', 'November 20, 2020 (United States)'], ['March 12, 2021'], ['May 28, 2021 (United States)'], ['July 30, 2021 (United States)'], ['27 August 2021']]\n"
          ],
          "name": "stdout"
        }
      ]
    },
    {
      "cell_type": "code",
      "metadata": {
        "id": "992OLm_vDipJ",
        "outputId": "e9f090e1-9ef2-498d-f13d-dc0b18e3ab42"
      },
      "source": [
        "movie_info_list[-50]"
      ],
      "execution_count": null,
      "outputs": [
        {
          "output_type": "execute_result",
          "data": {
            "text/plain": [
              "{'title': 'The Jungle Book',\n",
              " 'Directed by': 'Jon Favreau',\n",
              " 'Produced by': ['Jon Favreau', 'Brigham Taylor'],\n",
              " 'Written by': 'Justin Marks',\n",
              " 'Based on': ['The Jungle Book', 'by', 'Rudyard Kipling'],\n",
              " 'Starring': ['Bill Murray',\n",
              "  'Ben Kingsley',\n",
              "  'Idris Elba',\n",
              "  \"Lupita Nyong'o\",\n",
              "  'Scarlett Johansson',\n",
              "  'Giancarlo Esposito',\n",
              "  'Christopher Walken',\n",
              "  'Neel Sethi'],\n",
              " 'Music by': 'John Debney',\n",
              " 'Cinematography': 'Bill Pope',\n",
              " 'Edited by': 'Mark Livolsi',\n",
              " 'Production company': ['Walt Disney Pictures', 'Fairview Entertainment'],\n",
              " 'Distributed by': ['Walt Disney Studios', 'Motion Pictures'],\n",
              " 'Release date': ['April 4, 2016 ( El Capitan Theatre )',\n",
              "  'April 15, 2016 (United States)'],\n",
              " 'Running time': '106 minutes',\n",
              " 'Country': 'United States',\n",
              " 'Language': 'English',\n",
              " 'Budget': '$175–177 million',\n",
              " 'Box office': '$966.6 million',\n",
              " 'Running time (int)': 106,\n",
              " 'Budget (float)': 175000000.0,\n",
              " 'Box office (float)': 966600000.0}"
            ]
          },
          "metadata": {
            "tags": []
          },
          "execution_count": 56
        }
      ]
    },
    {
      "cell_type": "code",
      "metadata": {
        "id": "KvWdhBCKDipP"
      },
      "source": [
        "# June 28, 1950\n",
        "from datetime import datetime\n",
        "\n",
        "dates = [movie.get('Release date', 'N/A') for movie in movie_info_list]\n",
        "\n",
        "def clean_date(date):\n",
        "    return date.split(\"(\")[0].strip()\n",
        "\n",
        "def date_conversion(date):\n",
        "    if isinstance(date, list):\n",
        "        date = date[0]\n",
        "        \n",
        "    if date == \"N/A\":\n",
        "        return None\n",
        "        \n",
        "    date_str = clean_date(date)\n",
        "\n",
        "    fmts = [\"%B %d, %Y\", \"%d %B %Y\"]\n",
        "    for fmt in fmts:\n",
        "        try:\n",
        "            return datetime.strptime(date_str, fmt)\n",
        "        except:\n",
        "            pass\n",
        "    return None\n"
      ],
      "execution_count": null,
      "outputs": []
    },
    {
      "cell_type": "code",
      "metadata": {
        "id": "NaE32VGMDipX"
      },
      "source": [
        "for movie in movie_info_list:\n",
        "    movie['Release date (datetime)'] = date_conversion(movie.get('Release date', 'N/A'))"
      ],
      "execution_count": null,
      "outputs": []
    },
    {
      "cell_type": "code",
      "metadata": {
        "id": "sDDB4ZwHDipe"
      },
      "source": [
        "movie_info_list[50]"
      ],
      "execution_count": null,
      "outputs": []
    },
    {
      "cell_type": "code",
      "metadata": {
        "id": "_7R5T6LXDipj"
      },
      "source": [
        "import pickle\n",
        "\n",
        "def save_data_pickle(name, data):\n",
        "    with open(name, 'wb') as f:\n",
        "        pickle.dump(data, f)"
      ],
      "execution_count": null,
      "outputs": []
    },
    {
      "cell_type": "code",
      "metadata": {
        "id": "tXQQUhk7Dipo"
      },
      "source": [
        "import pickle\n",
        "\n",
        "def load_data_pickle(name):\n",
        "    with open(name, 'rb') as f:\n",
        "        return pickle.load(f)"
      ],
      "execution_count": null,
      "outputs": []
    },
    {
      "cell_type": "code",
      "metadata": {
        "id": "Ac618j6mDipt"
      },
      "source": [
        "save_data_pickle(\"disney_movie_data_cleaned_more.pickle\", movie_info_list)"
      ],
      "execution_count": null,
      "outputs": []
    },
    {
      "cell_type": "code",
      "metadata": {
        "id": "-j5usncWDipy"
      },
      "source": [
        "a = load_data_pickle(\"disney_movie_data_cleaned_more.pickle\")"
      ],
      "execution_count": null,
      "outputs": []
    },
    {
      "cell_type": "code",
      "metadata": {
        "id": "rpwZjpcTDip2"
      },
      "source": [
        "a == movie_info_list"
      ],
      "execution_count": null,
      "outputs": []
    },
    {
      "cell_type": "markdown",
      "metadata": {
        "id": "fKE0QLFADip7"
      },
      "source": [
        "### Task #4: Attach IMDB/Rotten Tomatoes/Metascore scores"
      ]
    },
    {
      "cell_type": "code",
      "metadata": {
        "id": "BN5_MpQMDip8"
      },
      "source": [
        "movie_info_list = load_data_pickle('disney_movie_data_cleaned_more.pickle')"
      ],
      "execution_count": null,
      "outputs": []
    },
    {
      "cell_type": "code",
      "metadata": {
        "id": "3xVGZn-nDiqA"
      },
      "source": [
        "movie_info_list[-60]"
      ],
      "execution_count": null,
      "outputs": []
    },
    {
      "cell_type": "code",
      "metadata": {
        "id": "OSbh38AgDiqH"
      },
      "source": [
        "# http://www.omdbapi.com/?apikey=[yourkey]&"
      ],
      "execution_count": null,
      "outputs": []
    },
    {
      "cell_type": "code",
      "metadata": {
        "id": "BQytVja9DiqM"
      },
      "source": [
        "import requests\n",
        "import urllib\n",
        "import os\n",
        "\n",
        "def get_omdb_info(title):\n",
        "    base_url = \"http://www.omdbapi.com/?\"\n",
        "    parameters = {\"apikey\": os.environ['OMDB_API_KEY'], 't': title}\n",
        "    params_encoded = urllib.parse.urlencode(parameters)\n",
        "    full_url = base_url + params_encoded\n",
        "    return requests.get(full_url).json()\n",
        "\n",
        "def get_rotten_tomato_score(omdb_info):\n",
        "    ratings = omdb_info.get('Ratings', [])\n",
        "    for rating in ratings:\n",
        "        if rating['Source'] == 'Rotten Tomatoes':\n",
        "            return rating['Value']\n",
        "    return None\n",
        "\n",
        "get_omdb_info(\"into the woods\")"
      ],
      "execution_count": null,
      "outputs": []
    },
    {
      "cell_type": "code",
      "metadata": {
        "id": "SSynuWsJDiqR"
      },
      "source": [
        "for movie in movie_info_list:\n",
        "    title = movie['title']\n",
        "    omdb_info = get_omdb_info(title)\n",
        "    movie['imdb'] = omdb_info.get('imdbRating', None)\n",
        "    movie['metascore'] = omdb_info.get('Metascore', None)\n",
        "    movie['rotten_tomatoes'] = get_rotten_tomato_score(omdb_info)"
      ],
      "execution_count": null,
      "outputs": []
    },
    {
      "cell_type": "code",
      "metadata": {
        "id": "g9l-IQlZDiqV"
      },
      "source": [
        "movie_info_list[-30]"
      ],
      "execution_count": null,
      "outputs": []
    },
    {
      "cell_type": "code",
      "metadata": {
        "id": "avgcSFqsDiqa"
      },
      "source": [
        "for movie in movie_info_list:\n",
        "    movie['imdb'] = float(movie['imdb'])\n",
        "    movie['metascore'] = float(movie['metascore'])\n",
        "    movie['rotten_tomatoes'] = float(movie['rotten_tomatoes'].strip('%'))"
      ],
      "execution_count": null,
      "outputs": []
    },
    {
      "cell_type": "code",
      "metadata": {
        "id": "OUniI2t2Diqh"
      },
      "source": [
        "\n",
        "\n",
        "\n",
        "\n",
        "\n",
        "\n",
        "\n",
        "\n",
        "\n",
        "\n",
        "\n",
        "\n",
        "\n",
        "\n"
      ],
      "execution_count": null,
      "outputs": []
    },
    {
      "cell_type": "code",
      "metadata": {
        "id": "UVSSVDuuDiqo"
      },
      "source": [
        ""
      ],
      "execution_count": null,
      "outputs": []
    },
    {
      "cell_type": "code",
      "metadata": {
        "id": "WUbW1tsmDiqs"
      },
      "source": [
        ""
      ],
      "execution_count": null,
      "outputs": []
    },
    {
      "cell_type": "code",
      "metadata": {
        "id": "uZa6lZ4IDiqz"
      },
      "source": [
        ""
      ],
      "execution_count": null,
      "outputs": []
    },
    {
      "cell_type": "code",
      "metadata": {
        "id": "52tvDbAIDiq5"
      },
      "source": [
        ""
      ],
      "execution_count": null,
      "outputs": []
    },
    {
      "cell_type": "code",
      "metadata": {
        "id": "kEI4hIJCDiq-"
      },
      "source": [
        ""
      ],
      "execution_count": null,
      "outputs": []
    },
    {
      "cell_type": "code",
      "metadata": {
        "id": "Bt2RWOByDirD"
      },
      "source": [
        "save_data_pickle('disney_movie_data_final.pickle', movie_info_list)"
      ],
      "execution_count": null,
      "outputs": []
    },
    {
      "cell_type": "markdown",
      "metadata": {
        "id": "3Ameq5niDirI"
      },
      "source": [
        "### Task #5: Save data as JSON & CSV"
      ]
    },
    {
      "cell_type": "code",
      "metadata": {
        "id": "UqeQ3Zg1DirJ"
      },
      "source": [
        "movie_info_list[50]"
      ],
      "execution_count": null,
      "outputs": []
    },
    {
      "cell_type": "code",
      "metadata": {
        "id": "sh0-VfQtDirO"
      },
      "source": [
        "movie_info_copy = [movie.copy() for movie in movie_info_list]"
      ],
      "execution_count": null,
      "outputs": []
    },
    {
      "cell_type": "code",
      "metadata": {
        "id": "KtL2m922DirT"
      },
      "source": [
        "for movie in movie_info_copy:\n",
        "    current_date = movie['Release date (datetime)']\n",
        "    if current_date:\n",
        "        movie['Release date (datetime)'] = current_date.strftime(\"%B %d, %Y\")\n",
        "    else:\n",
        "        movie['Release date (datetime)'] = None"
      ],
      "execution_count": null,
      "outputs": []
    },
    {
      "cell_type": "code",
      "metadata": {
        "id": "-YVt81flDisW"
      },
      "source": [
        "save_data(\"disney_data_final.json\", movie_info_copy)"
      ],
      "execution_count": null,
      "outputs": []
    },
    {
      "cell_type": "markdown",
      "metadata": {
        "id": "inRJv9bLDise"
      },
      "source": [
        "*italicized text*#### Convert data to CSV"
      ]
    },
    {
      "cell_type": "code",
      "metadata": {
        "id": "IzzJxeeYDisf"
      },
      "source": [
        "import pandas as pd\n",
        "\n",
        "df = pd.DataFrame(movie_info_list)"
      ],
      "execution_count": null,
      "outputs": []
    },
    {
      "cell_type": "code",
      "metadata": {
        "id": "KFNBcajZDisk"
      },
      "source": [
        "df.head()"
      ],
      "execution_count": null,
      "outputs": []
    },
    {
      "cell_type": "code",
      "metadata": {
        "id": "bwfUTv3HDisr"
      },
      "source": [
        "df.to_csv(\"disney_movie_data_final.csv\")"
      ],
      "execution_count": null,
      "outputs": []
    },
    {
      "cell_type": "code",
      "metadata": {
        "id": "Ue8PYFeDDisy"
      },
      "source": [
        "running_times = df.sort_values(['Running time (int)'],  ascending=False)\n",
        "running_times.head(20)"
      ],
      "execution_count": null,
      "outputs": []
    },
    {
      "cell_type": "code",
      "metadata": {
        "id": "KJ1kZriIDis3"
      },
      "source": [
        ""
      ],
      "execution_count": null,
      "outputs": []
    },
    {
      "cell_type": "code",
      "metadata": {
        "id": "y9Yt-BFtDis7"
      },
      "source": [
        ""
      ],
      "execution_count": null,
      "outputs": []
    },
    {
      "cell_type": "code",
      "metadata": {
        "id": "0QvEF7-LDis-"
      },
      "source": [
        ""
      ],
      "execution_count": null,
      "outputs": []
    },
    {
      "cell_type": "code",
      "metadata": {
        "id": "zW_RC2Y9DitD"
      },
      "source": [
        "\n",
        "\n",
        "\n",
        "\n",
        "\n",
        "\n",
        "\n",
        "\n",
        "\n",
        "\n",
        "\n",
        "\n",
        "\n",
        "\n",
        "\n",
        "\n",
        "\n",
        "\n",
        "\n",
        "\n",
        "\n",
        "\n",
        "\n",
        "\n",
        "\n",
        "\n",
        "\n",
        "\n",
        "\n",
        "\n",
        "\n",
        "\n",
        "\n",
        "\n",
        "\n",
        "\n",
        "\n",
        "\n",
        "\n",
        "\n",
        "\n",
        "\n",
        "\n",
        "\n",
        "\n",
        "\n",
        "\n",
        "\n",
        "\n",
        "\n",
        "\n",
        "\n",
        "\n",
        "\n",
        "\n",
        "\n",
        "\n",
        "\n",
        "\n"
      ],
      "execution_count": null,
      "outputs": []
    },
    {
      "cell_type": "code",
      "metadata": {
        "id": "5PRa6wqeDitI"
      },
      "source": [
        "\n",
        "\n",
        "\n",
        "\n",
        "\n",
        "\n",
        "\n",
        "\n",
        "\n",
        "\n",
        "\n",
        "\n",
        "\n",
        "\n",
        "\n",
        "\n",
        "\n",
        "\n",
        "\n",
        "\n",
        "\n",
        "\n"
      ],
      "execution_count": null,
      "outputs": []
    }
  ]
}